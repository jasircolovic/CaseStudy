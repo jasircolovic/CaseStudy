{
  "nbformat": 4,
  "nbformat_minor": 0,
  "metadata": {
    "colab": {
      "provenance": []
    },
    "kernelspec": {
      "name": "python3",
      "display_name": "Python 3"
    },
    "language_info": {
      "name": "python"
    }
  },
  "cells": [
    {
      "cell_type": "code",
      "execution_count": 1,
      "metadata": {
        "id": "vhqf5PYz9BYV"
      },
      "outputs": [],
      "source": [
        "# AID304 - Big Data Analytics: Case Study\n",
        "# Student: JasirColovic\n",
        "# Dataset: World Happiness Report (Kaggle)\n",
        "\n",
        "import pandas as pd\n",
        "import numpy as np\n",
        "import matplotlib.pyplot as plt\n",
        "import seaborn as sns\n",
        "from sklearn.linear_model import LinearRegression\n",
        "from sklearn.model_selection import train_test_split\n",
        "from sklearn.metrics import r2_score, mean_squared_error"
      ]
    },
    {
      "cell_type": "code",
      "source": [
        "# Load the dataset\n",
        "url = \"/2019.csv\"\n",
        "df = pd.read_csv(url)"
      ],
      "metadata": {
        "id": "ZenvpAWE9mHy"
      },
      "execution_count": 6,
      "outputs": []
    },
    {
      "cell_type": "code",
      "source": [
        "# Verify data loading\n",
        "print(\"First 5 rows of the dataset:\")\n",
        "print(df.head())\n",
        "print(\"\\nColumns:\", df.columns.tolist())"
      ],
      "metadata": {
        "colab": {
          "base_uri": "https://localhost:8080/"
        },
        "id": "n4zGGJNh-hEK",
        "outputId": "eefb9e7d-9678-46e3-c44c-360a0b169d41"
      },
      "execution_count": 7,
      "outputs": [
        {
          "output_type": "stream",
          "name": "stdout",
          "text": [
            "First 5 rows of the dataset:\n",
            "   Overall rank Country or region  Score  GDP per capita  Social support  \\\n",
            "0             1           Finland  7.769           1.340           1.587   \n",
            "1             2           Denmark  7.600           1.383           1.573   \n",
            "2             3            Norway  7.554           1.488           1.582   \n",
            "3             4           Iceland  7.494           1.380           1.624   \n",
            "4             5       Netherlands  7.488           1.396           1.522   \n",
            "\n",
            "   Healthy life expectancy  Freedom to make life choices  Generosity  \\\n",
            "0                    0.986                         0.596       0.153   \n",
            "1                    0.996                         0.592       0.252   \n",
            "2                    1.028                         0.603       0.271   \n",
            "3                    1.026                         0.591       0.354   \n",
            "4                    0.999                         0.557       0.322   \n",
            "\n",
            "   Perceptions of corruption  \n",
            "0                      0.393  \n",
            "1                      0.410  \n",
            "2                      0.341  \n",
            "3                      0.118  \n",
            "4                      0.298  \n",
            "\n",
            "Columns: ['Overall rank', 'Country or region', 'Score', 'GDP per capita', 'Social support', 'Healthy life expectancy', 'Freedom to make life choices', 'Generosity', 'Perceptions of corruption']\n"
          ]
        }
      ]
    },
    {
      "cell_type": "code",
      "source": [
        " #Brief explanation of the dataset\n",
        "print(\"\\nDataset Description:\")\n",
        "print(\"The World Happiness Report dataset contains happiness scores and contributing factors for various countries in 2019.\")\n",
        "print(\"Variables include Happiness Score, GDP per Capita, Social Support, Healthy Life Expectancy, Freedom, Generosity, and Perceptions of Corruption.\")\n"
      ],
      "metadata": {
        "colab": {
          "base_uri": "https://localhost:8080/"
        },
        "id": "knUX56bI--ZB",
        "outputId": "cfdf7730-7f04-41cb-a79e-54f7e4ad5848"
      },
      "execution_count": 9,
      "outputs": [
        {
          "output_type": "stream",
          "name": "stdout",
          "text": [
            "\n",
            "Dataset Description:\n",
            "The World Happiness Report dataset contains happiness scores and contributing factors for various countries in 2019.\n",
            "Variables include Happiness Score, GDP per Capita, Social Support, Healthy Life Expectancy, Freedom, Generosity, and Perceptions of Corruption.\n"
          ]
        }
      ]
    },
    {
      "cell_type": "code",
      "source": [
        " #Dataset source and format\n",
        "print(\"\\nDataset Source and Format:\")\n",
        "print(\"Source: Kaggle (https://www.kaggle.com/datasets/unsdsn/world-happiness), accessed via GitHub raw link\")\n",
        "print(\"Format: CSV\")"
      ],
      "metadata": {
        "colab": {
          "base_uri": "https://localhost:8080/"
        },
        "id": "1X7aWPoH_CMq",
        "outputId": "fc29dbd5-6848-4b8e-95b2-06e4003844be"
      },
      "execution_count": 11,
      "outputs": [
        {
          "output_type": "stream",
          "name": "stdout",
          "text": [
            "\n",
            "Dataset Source and Format:\n",
            "Source: Kaggle (https://www.kaggle.com/datasets/unsdsn/world-happiness), accessed via GitHub raw link\n",
            "Format: CSV\n"
          ]
        }
      ]
    },
    {
      "cell_type": "code",
      "source": [
        "#Number of observations and variables\n",
        "print(\"\\nDataset Dimensions:\")\n",
        "print(f\"Number of observations: {df.shape[0]}\")\n",
        "print(f\"Number of variables: {df.shape[1]}\")"
      ],
      "metadata": {
        "colab": {
          "base_uri": "https://localhost:8080/"
        },
        "id": "iaw50bNb_ICZ",
        "outputId": "f8fcb7fc-e26f-447a-ecce-a6d1fd3c3e1c"
      },
      "execution_count": 12,
      "outputs": [
        {
          "output_type": "stream",
          "name": "stdout",
          "text": [
            "\n",
            "Dataset Dimensions:\n",
            "Number of observations: 156\n",
            "Number of variables: 9\n"
          ]
        }
      ]
    },
    {
      "cell_type": "code",
      "source": [
        "# Explore the dataset\n",
        "# Check data types\n",
        "print(\"\\nData Types:\")\n",
        "print(df.dtypes)\n",
        "\n",
        "print(\"\\nNull Values:\")\n",
        "print(df.isnull().sum())"
      ],
      "metadata": {
        "colab": {
          "base_uri": "https://localhost:8080/"
        },
        "id": "LBdoU6Fx_L1P",
        "outputId": "cd577040-1c7f-4010-9b61-ac4584e3e652"
      },
      "execution_count": 18,
      "outputs": [
        {
          "output_type": "stream",
          "name": "stdout",
          "text": [
            "\n",
            "Data Types:\n",
            "Overall rank                      int64\n",
            "Country or region                object\n",
            "Score                           float64\n",
            "GDP per capita                  float64\n",
            "Social support                  float64\n",
            "Healthy life expectancy         float64\n",
            "Freedom to make life choices    float64\n",
            "Generosity                      float64\n",
            "Perceptions of corruption       float64\n",
            "dtype: object\n",
            "\n",
            "Null Values:\n",
            "Overall rank                    0\n",
            "Country or region               0\n",
            "Score                           0\n",
            "GDP per capita                  0\n",
            "Social support                  0\n",
            "Healthy life expectancy         0\n",
            "Freedom to make life choices    0\n",
            "Generosity                      0\n",
            "Perceptions of corruption       0\n",
            "dtype: int64\n"
          ]
        }
      ]
    },
    {
      "cell_type": "code",
      "source": [
        "# Check number of unique values per column\n",
        "print(\"\\nUnique Values per Column:\")\n",
        "print(df.nunique())"
      ],
      "metadata": {
        "colab": {
          "base_uri": "https://localhost:8080/"
        },
        "id": "pzxoXWqv_OZ0",
        "outputId": "699fbb22-75e4-447d-a5be-ab4df354b3ee"
      },
      "execution_count": 19,
      "outputs": [
        {
          "output_type": "stream",
          "name": "stdout",
          "text": [
            "\n",
            "Unique Values per Column:\n",
            "Overall rank                    156\n",
            "Country or region               156\n",
            "Score                           155\n",
            "GDP per capita                  146\n",
            "Social support                  145\n",
            "Healthy life expectancy         119\n",
            "Freedom to make life choices    130\n",
            "Generosity                      118\n",
            "Perceptions of corruption       113\n",
            "dtype: int64\n"
          ]
        }
      ]
    },
    {
      "cell_type": "code",
      "source": [
        "#  Check for outliers using IQR method\n",
        "def detect_outliers(df, column):\n",
        "    Q1 = df[column].quantile(0.25)\n",
        "    Q3 = df[column].quantile(0.75)\n",
        "    IQR = Q3 - Q1\n",
        "    lower_bound = Q1 - 1.5 * IQR\n",
        "    upper_bound = Q3 + 1.5 * IQR\n",
        "    outliers = df[(df[column] < lower_bound) | (df[column] > upper_bound)][column]\n",
        "    return outliers\n",
        "\n",
        "numeric_cols = ['Score', 'GDP per capita', 'Social support', 'Healthy life expectancy',\n",
        "                'Freedom to make life choices', 'Generosity', 'Perceptions of corruption']\n",
        "\n",
        "print(\"\\nOutliers Detection:\")\n",
        "for col in numeric_cols:\n",
        "    outliers = detect_outliers(df, col)\n",
        "    print(f\"Outliers in {col}: {len(outliers)}\")\n",
        "    if len(outliers) > 0:\n",
        "        print(outliers)\n",
        "\n",
        "# Remove outliers\n",
        "df_clean = df.copy()\n",
        "for col in numeric_cols:\n",
        "    Q1 = df[col].quantile(0.25)\n",
        "    Q3 = df[col].quantile(0.75)\n",
        "    IQR = Q3 - Q1\n",
        "    lower_bound = Q1 - 1.5 * IQR\n",
        "    upper_bound = Q3 + 1.5 * IQR\n",
        "    df_clean = df_clean[(df_clean[col] >= lower_bound) & (df_clean[col] <= upper_bound)]\n",
        "\n",
        "print(f\"\\nDataset size after outlier removal: {df_clean.shape[0]} observations\")"
      ],
      "metadata": {
        "colab": {
          "base_uri": "https://localhost:8080/"
        },
        "id": "EqYUwTQ5_duy",
        "outputId": "ffc0b4d0-57d4-46dc-8eb7-c34d41bca91f"
      },
      "execution_count": 20,
      "outputs": [
        {
          "output_type": "stream",
          "name": "stdout",
          "text": [
            "\n",
            "Outliers Detection:\n",
            "Outliers in Score: 0\n",
            "Outliers in GDP per capita: 0\n",
            "Outliers in Social support: 4\n",
            "101    0.437\n",
            "144    0.447\n",
            "148    0.378\n",
            "154    0.000\n",
            "Name: Social support, dtype: float64\n",
            "Outliers in Healthy life expectancy: 1\n",
            "134    0.0\n",
            "Name: Healthy life expectancy, dtype: float64\n",
            "Outliers in Freedom to make life choices: 1\n",
            "153    0.0\n",
            "Name: Freedom to make life choices, dtype: float64\n",
            "Outliers in Generosity: 2\n",
            "91     0.498\n",
            "130    0.566\n",
            "Name: Generosity, dtype: float64\n",
            "Outliers in Perceptions of corruption: 14\n",
            "0      0.393\n",
            "1      0.410\n",
            "2      0.341\n",
            "4      0.298\n",
            "5      0.343\n",
            "6      0.373\n",
            "7      0.380\n",
            "8      0.308\n",
            "10     0.290\n",
            "13     0.316\n",
            "15     0.310\n",
            "33     0.453\n",
            "75     0.287\n",
            "151    0.411\n",
            "Name: Perceptions of corruption, dtype: float64\n",
            "\n",
            "Dataset size after outlier removal: 134 observations\n"
          ]
        }
      ]
    },
    {
      "cell_type": "code",
      "source": [
        "# Visualize two variables\n",
        "# Scatter plot of GDP per capita vs Happiness Score\n",
        "plt.figure(figsize=(10, 6))\n",
        "sns.scatterplot(x='GDP per capita', y='Score', data=df_clean)\n",
        "plt.title('Happiness Score vs GDP per Capita')\n",
        "plt.xlabel('GDP per Capita')\n",
        "plt.ylabel('Happiness Score')\n",
        "plt.show()\n",
        "\n",
        "# Histogram of Happiness Score\n",
        "plt.figure(figsize=(10, 6))\n",
        "sns.histplot(df_clean['Score'], bins=20, kde=True)\n",
        "plt.title('Distribution of Happiness Scores')\n",
        "plt.xlabel('Happiness Score')\n",
        "plt.ylabel('Frequency')\n",
        "plt.show()"
      ],
      "metadata": {
        "colab": {
          "base_uri": "https://localhost:8080/",
          "height": 1000
        },
        "id": "4rIRWoOg_ioL",
        "outputId": "24e95c78-1782-4669-d927-7cbe6cb6ed17"
      },
      "execution_count": 21,
      "outputs": [
        {
          "output_type": "display_data",
          "data": {
            "text/plain": [
              "<Figure size 1000x600 with 1 Axes>"
            ],
            "image/png": "[encoded data removed]"
          },
          "metadata": {}
        },
        {
          "output_type": "display_data",
          "data": {
            "text/plain": [
              "<Figure size 1000x600 with 1 Axes>"
            ],
            "image/png": "[encoded data removed]"
          },
          "metadata": {}
        }
      ]
    },
    {
      "cell_type": "code",
      "source": [
        "# Descriptive statistics\n",
        "print(\"\\nDescriptive Statistics:\")\n",
        "desc_stats = df_clean[numeric_cols].describe()\n",
        "print(desc_stats)\n",
        "\n",
        "print(\"\\nExplanation of Descriptive Statistics:\")\n",
        "print(\"The descriptive statistics provide measures of central tendency (mean, median) and dispersion (standard deviation, min, max).\")\n",
        "print(\"For example, the mean Happiness Score is approximately\", round(desc_stats.loc['mean', 'Score'], 2),\n",
        "      \"with a standard deviation of\", round(desc_stats.loc['std', 'Score'], 2),\n",
        "      \"indicating moderate variability in happiness across countries.\")\n",
        "print(\"Variables like GDP per capita and Social support show positive skewness, as their means are higher than medians.\")"
      ],
      "metadata": {
        "colab": {
          "base_uri": "https://localhost:8080/"
        },
        "id": "IHrq_vd5_mbX",
        "outputId": "fc7905f7-07f6-4362-acff-a59bd6bda2de"
      },
      "execution_count": 22,
      "outputs": [
        {
          "output_type": "stream",
          "name": "stdout",
          "text": [
            "\n",
            "Descriptive Statistics:\n",
            "            Score  GDP per capita  Social support  Healthy life expectancy  \\\n",
            "count  134.000000      134.000000      134.000000               134.000000   \n",
            "mean     5.336963        0.883239        1.215619                 0.717769   \n",
            "std      0.963922        0.371275        0.253318                 0.219601   \n",
            "min      2.853000        0.000000        0.560000                 0.168000   \n",
            "25%      4.566000        0.586250        1.056500                 0.552000   \n",
            "50%      5.331000        0.954500        1.265500                 0.785000   \n",
            "75%      6.096500        1.182500        1.431750                 0.870250   \n",
            "max      7.494000        1.684000        1.624000                 1.088000   \n",
            "\n",
            "       Freedom to make life choices  Generosity  Perceptions of corruption  \n",
            "count                    134.000000  134.000000                 134.000000  \n",
            "mean                       0.382776    0.170970                   0.086142  \n",
            "std                        0.133530    0.085669                   0.056835  \n",
            "min                        0.010000    0.000000                   0.000000  \n",
            "25%                        0.298250    0.105250                   0.042750  \n",
            "50%                        0.397500    0.166000                   0.078000  \n",
            "75%                        0.492250    0.234500                   0.110000  \n",
            "max                        0.631000    0.419000                   0.278000  \n",
            "\n",
            "Explanation of Descriptive Statistics:\n",
            "The descriptive statistics provide measures of central tendency (mean, median) and dispersion (standard deviation, min, max).\n",
            "For example, the mean Happiness Score is approximately 5.34 with a standard deviation of 0.96 indicating moderate variability in happiness across countries.\n",
            "Variables like GDP per capita and Social support show positive skewness, as their means are higher than medians.\n"
          ]
        }
      ]
    },
    {
      "cell_type": "code",
      "source": [
        "# Develop regression model\n",
        "features = ['GDP per capita', 'Social support', 'Healthy life expectancy',\n",
        "            'Freedom to make life choices', 'Generosity', 'Perceptions of corruption']\n",
        "X = df_clean[features]\n",
        "y = df_clean['Score']\n",
        "\n",
        "X_train, X_test, y_train, y_test = train_test_split(X, y, test_size=0.2, random_state=42)\n",
        "\n",
        "model = LinearRegression()\n",
        "model.fit(X_train, y_train)\n",
        "\n",
        "y_pred = model.predict(X_test)\n",
        "r2 = r2_score(y_test, y_pred)\n",
        "rmse = np.sqrt(mean_squared_error(y_test, y_pred))"
      ],
      "metadata": {
        "id": "1xBBhATX_qUG"
      },
      "execution_count": 23,
      "outputs": []
    },
    {
      "cell_type": "code",
      "source": [
        "# Comment on the regression model\n",
        "print(\"\\nRegression Model Results:\")\n",
        "print(\"Features used:\", features)\n",
        "print(\"R-squared:\", round(r2, 4))\n",
        "print(\"RMSE:\", round(rmse, 4))\n",
        "print(\"\\nModel Commentary:\")\n",
        "print(\"The linear regression model predicts Happiness Score using six socio-economic factors.\")\n",
        "print(f\"An R-squared value of {round(r2, 4)} indicates that approximately {round(r2*100, 2)}% of the variance in Happiness Score is explained by the model.\")\n",
        "print(f\"The RMSE of {round(rmse, 4)} suggests moderate prediction error relative to the Happiness Score range (0-10).\")\n",
        "print(\"The model is effective but could be improved by exploring non-linear relationships or additional features.\")"
      ],
      "metadata": {
        "colab": {
          "base_uri": "https://localhost:8080/"
        },
        "id": "M5pD4XLd_va0",
        "outputId": "98ec2d6f-97b4-420c-ce95-a0734d87e8f9"
      },
      "execution_count": 24,
      "outputs": [
        {
          "output_type": "stream",
          "name": "stdout",
          "text": [
            "\n",
            "Regression Model Results:\n",
            "Features used: ['GDP per capita', 'Social support', 'Healthy life expectancy', 'Freedom to make life choices', 'Generosity', 'Perceptions of corruption']\n",
            "R-squared: 0.7465\n",
            "RMSE: 0.4231\n",
            "\n",
            "Model Commentary:\n",
            "The linear regression model predicts Happiness Score using six socio-economic factors.\n",
            "An R-squared value of 0.7465 indicates that approximately 74.65% of the variance in Happiness Score is explained by the model.\n",
            "The RMSE of 0.4231 suggests moderate prediction error relative to the Happiness Score range (0-10).\n",
            "The model is effective but could be improved by exploring non-linear relationships or additional features.\n"
          ]
        }
      ]
    }
  ]
}